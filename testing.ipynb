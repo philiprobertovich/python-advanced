{
 "cells": [
  {
   "cell_type": "code",
   "execution_count": 5,
   "metadata": {},
   "outputs": [
    {
     "name": "stdout",
     "output_type": "stream",
     "text": [
      "['DarkSlateGray', 'SkyBlue', 'Yellow', 'SlateGray', 'SeaShell', 'Silver', 'LemonChiffon', 'CadetBlue', 'Aquamarine', 'LightYellow', 'Aquamarine', 'Tomato', 'DarkGray', 'MediumSeaGreen', 'Blue', 'PaleGreen', 'GoldenRod', 'BlueViolet', 'RosyBrown', 'Ivory']\n"
     ]
    }
   ],
   "source": [
    "from faker import Faker\n",
    "\n",
    "fake = Faker()\n",
    "color_list = []\n",
    "\n",
    "for i in range(20):\n",
    "  color = fake.color_name()\n",
    "  color_list.append(color)\n",
    "\n",
    "print(color_list)"
   ]
  },
  {
   "cell_type": "code",
   "execution_count": 6,
   "metadata": {},
   "outputs": [
    {
     "data": {
      "text/plain": [
       "['DarkSlateGray',\n",
       " 'SkyBlue',\n",
       " 'Yellow',\n",
       " 'SlateGray',\n",
       " 'SeaShell',\n",
       " 'Silver',\n",
       " 'LemonChiffon',\n",
       " 'CadetBlue',\n",
       " 'Aquamarine',\n",
       " 'LightYellow',\n",
       " 'Aquamarine',\n",
       " 'Tomato',\n",
       " 'DarkGray',\n",
       " 'MediumSeaGreen',\n",
       " 'Blue',\n",
       " 'PaleGreen',\n",
       " 'GoldenRod',\n",
       " 'BlueViolet',\n",
       " 'RosyBrown',\n",
       " 'Ivory']"
      ]
     },
     "execution_count": 6,
     "metadata": {},
     "output_type": "execute_result"
    }
   ],
   "source": [
    "def remove_dups(color_lst):\n",
    "  set(color_lst)\n",
    "  return color_lst\n",
    "\n",
    "  # color_set = {}\n",
    "  # for color in color_lst:\n",
    "  #   color_set.add(color)\n",
    "  # return color_set\n",
    "\n",
    "remove_dups(color_list)"
   ]
  }
 ],
 "metadata": {
  "kernelspec": {
   "display_name": "Python 3.7.15 ('venv': venv)",
   "language": "python",
   "name": "python3"
  },
  "language_info": {
   "codemirror_mode": {
    "name": "ipython",
    "version": 3
   },
   "file_extension": ".py",
   "mimetype": "text/x-python",
   "name": "python",
   "nbconvert_exporter": "python",
   "pygments_lexer": "ipython3",
   "version": "3.7.15"
  },
  "orig_nbformat": 4,
  "vscode": {
   "interpreter": {
    "hash": "90595d0e3416882b1f16d0e0dfdcd0b9dad2401249d9af471c355a57afd269c7"
   }
  }
 },
 "nbformat": 4,
 "nbformat_minor": 2
}
