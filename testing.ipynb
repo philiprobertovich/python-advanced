{
 "cells": [
  {
   "cell_type": "code",
   "execution_count": 1,
   "metadata": {},
   "outputs": [
    {
     "name": "stdout",
     "output_type": "stream",
     "text": [
      "['MediumSlateBlue', 'RoyalBlue', 'DarkKhaki', 'LightGray', 'MediumVioletRed', 'DarkSlateGray', 'LightSteelBlue', 'Peru', 'Bisque', 'Chocolate', 'DarkOliveGreen', 'DarkSlateBlue', 'Cornsilk', 'Black', 'DarkKhaki', 'DarkRed', 'RoyalBlue', 'Red', 'Thistle', 'MediumTurquoise']\n"
     ]
    }
   ],
   "source": [
    "from faker import Faker\n",
    "\n",
    "fake = Faker()\n",
    "color_list = []\n",
    "\n",
    "for i in range(20):\n",
    "  color = fake.color_name()\n",
    "  color_list.append(color)\n",
    "\n",
    "print(color_list)"
   ]
  },
  {
   "cell_type": "code",
   "execution_count": 6,
   "metadata": {},
   "outputs": [
    {
     "data": {
      "text/plain": [
       "['DarkSlateGray',\n",
       " 'SkyBlue',\n",
       " 'Yellow',\n",
       " 'SlateGray',\n",
       " 'SeaShell',\n",
       " 'Silver',\n",
       " 'LemonChiffon',\n",
       " 'CadetBlue',\n",
       " 'Aquamarine',\n",
       " 'LightYellow',\n",
       " 'Aquamarine',\n",
       " 'Tomato',\n",
       " 'DarkGray',\n",
       " 'MediumSeaGreen',\n",
       " 'Blue',\n",
       " 'PaleGreen',\n",
       " 'GoldenRod',\n",
       " 'BlueViolet',\n",
       " 'RosyBrown',\n",
       " 'Ivory']"
      ]
     },
     "execution_count": 6,
     "metadata": {},
     "output_type": "execute_result"
    }
   ],
   "source": [
    "def remove_dups(color_lst):\n",
    "  set(color_lst)\n",
    "  return color_lst\n",
    "\n",
    "  # color_set = {}\n",
    "  # for color in color_lst:\n",
    "  #   color_set.add(color)\n",
    "  # return color_set\n",
    "\n",
    "remove_dups(color_list)"
   ]
  },
  {
   "cell_type": "code",
   "execution_count": 12,
   "metadata": {},
   "outputs": [
    {
     "name": "stdout",
     "output_type": "stream",
     "text": [
      "{'DarkSlateGray': 13, 'SkyBlue': 7, 'Yellow': 6, 'SlateGray': 9, 'SeaShell': 8, 'Silver': 6, 'LemonChiffon': 12, 'CadetBlue': 9, 'Aquamarine': 10, 'LightYellow': 11, 'Tomato': 6, 'DarkGray': 8, 'MediumSeaGreen': 14, 'Blue': 4, 'PaleGreen': 9, 'GoldenRod': 9, 'BlueViolet': 10, 'RosyBrown': 9, 'Ivory': 5}\n"
     ]
    }
   ],
   "source": [
    "color_dict = {color: len(color) for color in color_list}\n",
    "print(color_dict)"
   ]
  },
  {
   "cell_type": "code",
   "execution_count": 16,
   "metadata": {},
   "outputs": [],
   "source": [
    "import json\n",
    "\n",
    "with open(\"./data/color.json\", 'w') as json_file:\n",
    "  json.dump(color_dict, json_file, indent=2)"
   ]
  },
  {
   "cell_type": "code",
   "execution_count": 17,
   "metadata": {},
   "outputs": [
    {
     "name": "stdout",
     "output_type": "stream",
     "text": [
      "DarkSlateGray: 13\n",
      "SkyBlue: 7\n",
      "Yellow: 6\n",
      "SlateGray: 9\n",
      "SeaShell: 8\n",
      "Silver: 6\n",
      "LemonChiffon: 12\n",
      "CadetBlue: 9\n",
      "Aquamarine: 10\n",
      "LightYellow: 11\n",
      "Tomato: 6\n",
      "DarkGray: 8\n",
      "MediumSeaGreen: 14\n",
      "PaleGreen: 9\n",
      "GoldenRod: 9\n",
      "BlueViolet: 10\n",
      "RosyBrown: 9\n",
      "Ivory: 5\n"
     ]
    }
   ],
   "source": [
    "with open(\"./data/color.json\", \"r\") as json_file:\n",
    "  json_color_dict = json.load(json_file)\n",
    "  for color, color_len in json_color_dict.items():\n",
    "    if color_len > 4:\n",
    "      print(f\"{color}: {color_len}\")"
   ]
  }
 ],
 "metadata": {
  "kernelspec": {
   "display_name": "Python 3.7.15 ('venv': venv)",
   "language": "python",
   "name": "python3"
  },
  "language_info": {
   "codemirror_mode": {
    "name": "ipython",
    "version": 3
   },
   "file_extension": ".py",
   "mimetype": "text/x-python",
   "name": "python",
   "nbconvert_exporter": "python",
   "pygments_lexer": "ipython3",
   "version": "3.7.15"
  },
  "orig_nbformat": 4,
  "vscode": {
   "interpreter": {
    "hash": "90595d0e3416882b1f16d0e0dfdcd0b9dad2401249d9af471c355a57afd269c7"
   }
  }
 },
 "nbformat": 4,
 "nbformat_minor": 2
}
